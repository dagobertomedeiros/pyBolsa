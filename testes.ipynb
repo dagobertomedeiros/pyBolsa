{
 "cells": [
  {
   "cell_type": "code",
   "execution_count": 1,
   "metadata": {},
   "outputs": [],
   "source": [
    "import datetime\n",
    "import numpy as np\n",
    "from matplotlib import pyplot as plt\n",
    "import plotly.offline as py\n",
    "import plotly.graph_objs as go\n",
    "import pandas as pd\n",
    "import talib as ta"
   ]
  },
  {
   "cell_type": "code",
   "execution_count": 127,
   "metadata": {},
   "outputs": [],
   "source": [
    "win = pd.read_excel('INDICES.xlsx', sheet_name='WIN', date_parser='Data')"
   ]
  },
  {
   "cell_type": "code",
   "execution_count": 128,
   "metadata": {},
   "outputs": [],
   "source": [
    "win = win.dropna()"
   ]
  },
  {
   "cell_type": "code",
   "execution_count": 129,
   "metadata": {},
   "outputs": [],
   "source": [
    "win = win.sort_values('Data')"
   ]
  },
  {
   "cell_type": "code",
   "execution_count": 4,
   "metadata": {},
   "outputs": [],
   "source": [
    "bop = ta.BOP(win.Open, win.Max, win.Min, win.Close)"
   ]
  },
  {
   "cell_type": "code",
   "execution_count": 131,
   "metadata": {},
   "outputs": [],
   "source": [
    "tAlta = np.array([])\n",
    "tBaixa = np.array([])\n",
    "maxTend = 0\n",
    "minTend = 0\n",
    "tendencia = '0'\n",
    "profit = pd.DataFrame(columns=['DataEnt','Entrada','DataSai','Saida', 'Operacao','Saldo'])\n",
    "posicionado = 0 # 1 - Sim, 0 - Não\n",
    "volMinOper = 500000000\n",
    "vlrMinDifMedias = 100\n"
   ]
  },
  {
   "cell_type": "code",
   "execution_count": 130,
   "metadata": {},
   "outputs": [
    {
     "data": {
      "text/plain": [
       "Index(['Data', 'Open', 'Max', 'Min', 'Close', 'Media9', 'Media21', 'Media200',\n",
       "       'Vol'],\n",
       "      dtype='object')"
      ]
     },
     "execution_count": 130,
     "metadata": {},
     "output_type": "execute_result"
    }
   ],
   "source": [
    "win.columns"
   ]
  },
  {
   "cell_type": "code",
   "execution_count": 115,
   "metadata": {},
   "outputs": [
    {
     "data": {
      "text/html": [
       "<div>\n",
       "<style scoped>\n",
       "    .dataframe tbody tr th:only-of-type {\n",
       "        vertical-align: middle;\n",
       "    }\n",
       "\n",
       "    .dataframe tbody tr th {\n",
       "        vertical-align: top;\n",
       "    }\n",
       "\n",
       "    .dataframe thead th {\n",
       "        text-align: right;\n",
       "    }\n",
       "</style>\n",
       "<table border=\"1\" class=\"dataframe\">\n",
       "  <thead>\n",
       "    <tr style=\"text-align: right;\">\n",
       "      <th></th>\n",
       "      <th>DataEnt</th>\n",
       "      <th>Entrada</th>\n",
       "      <th>DataSai</th>\n",
       "      <th>Saida</th>\n",
       "      <th>Operacao</th>\n",
       "      <th>Saldo</th>\n",
       "    </tr>\n",
       "  </thead>\n",
       "  <tbody>\n",
       "  </tbody>\n",
       "</table>\n",
       "</div>"
      ],
      "text/plain": [
       "Empty DataFrame\n",
       "Columns: [DataEnt, Entrada, DataSai, Saida, Operacao, Saldo]\n",
       "Index: []"
      ]
     },
     "execution_count": 115,
     "metadata": {},
     "output_type": "execute_result"
    }
   ],
   "source": [
    "profit"
   ]
  },
  {
   "cell_type": "code",
   "execution_count": 68,
   "metadata": {},
   "outputs": [],
   "source": [
    "def getMinValue(vlr1 : float, vlr2 : float):\n",
    "    if(vlr1 <= vlr2):\n",
    "        return vlr1\n",
    "    else:\n",
    "        return vlr2\n",
    "    \n",
    "def getMaxValue(vlr1 : float, vlr2 : float):\n",
    "    if(vlr1 >= vlr2):\n",
    "        return vlr1\n",
    "    else:\n",
    "        return vlr2    "
   ]
  },
  {
   "cell_type": "code",
   "execution_count": 132,
   "metadata": {},
   "outputs": [],
   "source": [
    "for i in win.index:\n",
    "    tBaixa = np.append(tBaixa, win.Close[i])\n",
    "    tAlta = np.append(tAlta, win.Close[i])\n",
    "    if(win.Media21[i] > win.Media9[i]): #identificando a tendencia a partir da diferença das medias\n",
    "        if(tendencia == 'Baixa'): # identificar alternancia de tendencias\n",
    "            tBaixa = np.append(tBaixa, win.Close[i])\n",
    "            if(posicionado == 0):\n",
    "                if(win.Close[i] < getMinValue(minTend, maxTend) and (win.Media21[i] - win.Media9[i]) > vlrMinDifMedias and win.Vol[i] > volMinOper): #localizando oportunidade de compra a partir da comparacao do vlr atual e o fundo conhecido da tendencia\n",
    "                    profit.loc[profit.index.size, ['DataEnt','Entrada','Operacao']] = win.Data[i], win.Close[i], 'Venda'\n",
    "                    posicionado = 1\n",
    "                    minTend = min(tBaixa)\n",
    "                else:\n",
    "                    minTend = min(tBaixa)\n",
    "            elif(posicionado == 1):\n",
    "                if(win.Close[i] < getMinValue(minTend, maxTend) and (win.Media21[i] - win.Media9[i]) > vlrMinDifMedias and win.Vol[i] > volMinOper):\n",
    "                    minTend = min(tBaixa)\n",
    "                else:\n",
    "                    profit.loc[profit.index.size -1, ['DataSai','Saida']] = win.Data[i], win.Close[i]\n",
    "                    posicionado = 0\n",
    "                    minTend = min(tBaixa)\n",
    "        else:\n",
    "            tendencia = 'Baixa'\n",
    "            maxTend = min(tAlta)\n",
    "            minTend = win.Close[i]\n",
    "            tBaixa = []\n",
    "            i = i-1\n",
    "    elif(win.Media21[i] < win.Media9[i]):\n",
    "        if(tendencia == 'Alta'): # identificar alternancia de tendencias\n",
    "            tAlta = np.append(tAlta, win.Close[i])\n",
    "            if(posicionado == 0):\n",
    "                if(win.Close[i] > getMaxValue(minTend, maxTend) and (win.Media9[i] - win.Media21[i]) > vlrMinDifMedias and win.Vol[i] > volMinOper): #localizando oportunidade de compra a partir da comparacao do vlr atual e o fundo conhecido da tendencia\n",
    "                    profit.loc[profit.index.size, ['DataEnt','Entrada','Operacao']] = win.Data[i], win.Close[i], 'Compra'\n",
    "                    posicionado = 1\n",
    "                    maxTend = max(tAlta)\n",
    "                else:\n",
    "                    maxTend = max(tAlta)\n",
    "            elif(posicionado == 1):\n",
    "                if(win.Close[i] > getMaxValue(minTend, maxTend) and (win.Media9[i] - win.Media21[i]) > vlrMinDifMedias and win.Vol[i] > volMinOper):\n",
    "                    maxTend = max(tAlta)\n",
    "                else:\n",
    "                    profit.loc[profit.index.size -1, ['DataSai','Saida']] = win.Data[i], win.Close[i]\n",
    "                    posicionado = 0\n",
    "                    maxTend = max(tAlta)\n",
    "        else:\n",
    "            tendencia = 'Alta'\n",
    "            maxTend = win.Close[i]\n",
    "            minTend = max(tBaixa)\n",
    "            tAlta = []\n",
    "            i = i-1\n",
    "        "
   ]
  },
  {
   "cell_type": "code",
   "execution_count": 137,
   "metadata": {},
   "outputs": [
    {
     "data": {
      "text/html": [
       "<div>\n",
       "<style scoped>\n",
       "    .dataframe tbody tr th:only-of-type {\n",
       "        vertical-align: middle;\n",
       "    }\n",
       "\n",
       "    .dataframe tbody tr th {\n",
       "        vertical-align: top;\n",
       "    }\n",
       "\n",
       "    .dataframe thead th {\n",
       "        text-align: right;\n",
       "    }\n",
       "</style>\n",
       "<table border=\"1\" class=\"dataframe\">\n",
       "  <thead>\n",
       "    <tr style=\"text-align: right;\">\n",
       "      <th></th>\n",
       "      <th>DataEnt</th>\n",
       "      <th>Entrada</th>\n",
       "      <th>DataSai</th>\n",
       "      <th>Saida</th>\n",
       "      <th>Operacao</th>\n",
       "      <th>Saldo</th>\n",
       "    </tr>\n",
       "  </thead>\n",
       "  <tbody>\n",
       "    <tr>\n",
       "      <th>0</th>\n",
       "      <td>2020-12-16 13:18:00</td>\n",
       "      <td>115935</td>\n",
       "      <td>2020-12-16 13:19:00</td>\n",
       "      <td>115920</td>\n",
       "      <td>Venda</td>\n",
       "      <td>NaN</td>\n",
       "    </tr>\n",
       "    <tr>\n",
       "      <th>1</th>\n",
       "      <td>2020-12-16 13:20:00</td>\n",
       "      <td>115825</td>\n",
       "      <td>2020-12-16 13:21:00</td>\n",
       "      <td>115845</td>\n",
       "      <td>Venda</td>\n",
       "      <td>NaN</td>\n",
       "    </tr>\n",
       "    <tr>\n",
       "      <th>2</th>\n",
       "      <td>2020-12-16 14:58:00</td>\n",
       "      <td>116575</td>\n",
       "      <td>2020-12-16 15:04:00</td>\n",
       "      <td>116925</td>\n",
       "      <td>Compra</td>\n",
       "      <td>NaN</td>\n",
       "    </tr>\n",
       "    <tr>\n",
       "      <th>3</th>\n",
       "      <td>2020-12-16 15:12:00</td>\n",
       "      <td>116995</td>\n",
       "      <td>2020-12-16 15:17:00</td>\n",
       "      <td>117185</td>\n",
       "      <td>Compra</td>\n",
       "      <td>NaN</td>\n",
       "    </tr>\n",
       "    <tr>\n",
       "      <th>4</th>\n",
       "      <td>2020-12-16 15:18:00</td>\n",
       "      <td>117305</td>\n",
       "      <td>2020-12-16 15:19:00</td>\n",
       "      <td>117265</td>\n",
       "      <td>Compra</td>\n",
       "      <td>NaN</td>\n",
       "    </tr>\n",
       "    <tr>\n",
       "      <th>...</th>\n",
       "      <td>...</td>\n",
       "      <td>...</td>\n",
       "      <td>...</td>\n",
       "      <td>...</td>\n",
       "      <td>...</td>\n",
       "      <td>...</td>\n",
       "    </tr>\n",
       "    <tr>\n",
       "      <th>142</th>\n",
       "      <td>2021-01-11 17:14:00</td>\n",
       "      <td>122665</td>\n",
       "      <td>2021-01-11 17:16:00</td>\n",
       "      <td>122620</td>\n",
       "      <td>Venda</td>\n",
       "      <td>NaN</td>\n",
       "    </tr>\n",
       "    <tr>\n",
       "      <th>143</th>\n",
       "      <td>2021-01-11 17:17:00</td>\n",
       "      <td>122565</td>\n",
       "      <td>2021-01-11 17:18:00</td>\n",
       "      <td>122600</td>\n",
       "      <td>Venda</td>\n",
       "      <td>NaN</td>\n",
       "    </tr>\n",
       "    <tr>\n",
       "      <th>144</th>\n",
       "      <td>2021-01-11 17:47:00</td>\n",
       "      <td>123300</td>\n",
       "      <td>2021-01-11 17:48:00</td>\n",
       "      <td>123280</td>\n",
       "      <td>Compra</td>\n",
       "      <td>NaN</td>\n",
       "    </tr>\n",
       "    <tr>\n",
       "      <th>145</th>\n",
       "      <td>2021-01-11 17:50:00</td>\n",
       "      <td>123305</td>\n",
       "      <td>2021-01-11 17:51:00</td>\n",
       "      <td>123245</td>\n",
       "      <td>Compra</td>\n",
       "      <td>NaN</td>\n",
       "    </tr>\n",
       "    <tr>\n",
       "      <th>146</th>\n",
       "      <td>2021-01-11 17:53:00</td>\n",
       "      <td>123320</td>\n",
       "      <td>2021-01-11 17:54:00</td>\n",
       "      <td>123220</td>\n",
       "      <td>Compra</td>\n",
       "      <td>NaN</td>\n",
       "    </tr>\n",
       "  </tbody>\n",
       "</table>\n",
       "<p>147 rows × 6 columns</p>\n",
       "</div>"
      ],
      "text/plain": [
       "                 DataEnt Entrada              DataSai   Saida Operacao Saldo\n",
       "0    2020-12-16 13:18:00  115935  2020-12-16 13:19:00  115920    Venda   NaN\n",
       "1    2020-12-16 13:20:00  115825  2020-12-16 13:21:00  115845    Venda   NaN\n",
       "2    2020-12-16 14:58:00  116575  2020-12-16 15:04:00  116925   Compra   NaN\n",
       "3    2020-12-16 15:12:00  116995  2020-12-16 15:17:00  117185   Compra   NaN\n",
       "4    2020-12-16 15:18:00  117305  2020-12-16 15:19:00  117265   Compra   NaN\n",
       "..                   ...     ...                  ...     ...      ...   ...\n",
       "142  2021-01-11 17:14:00  122665  2021-01-11 17:16:00  122620    Venda   NaN\n",
       "143  2021-01-11 17:17:00  122565  2021-01-11 17:18:00  122600    Venda   NaN\n",
       "144  2021-01-11 17:47:00  123300  2021-01-11 17:48:00  123280   Compra   NaN\n",
       "145  2021-01-11 17:50:00  123305  2021-01-11 17:51:00  123245   Compra   NaN\n",
       "146  2021-01-11 17:53:00  123320  2021-01-11 17:54:00  123220   Compra   NaN\n",
       "\n",
       "[147 rows x 6 columns]"
      ]
     },
     "execution_count": 137,
     "metadata": {},
     "output_type": "execute_result"
    }
   ],
   "source": [
    "profit"
   ]
  },
  {
   "cell_type": "code",
   "execution_count": null,
   "metadata": {},
   "outputs": [],
   "source": []
  }
 ],
 "metadata": {
  "kernelspec": {
   "display_name": "Python 3",
   "language": "python",
   "name": "python3"
  },
  "language_info": {
   "codemirror_mode": {
    "name": "ipython",
    "version": 3
   },
   "file_extension": ".py",
   "mimetype": "text/x-python",
   "name": "python",
   "nbconvert_exporter": "python",
   "pygments_lexer": "ipython3",
   "version": "3.8.5"
  }
 },
 "nbformat": 4,
 "nbformat_minor": 4
}
