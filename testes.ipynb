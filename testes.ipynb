{
 "cells": [
  {
   "cell_type": "code",
   "execution_count": 1,
   "metadata": {},
   "outputs": [],
   "source": [
    "import datetime\n",
    "import numpy as np\n",
    "from matplotlib import pyplot as plt\n",
    "import plotly.offline as py\n",
    "import plotly.graph_objs as go\n",
    "import pandas as pd\n",
    "import talib as ta"
   ]
  },
  {
   "cell_type": "code",
   "execution_count": 2,
   "metadata": {},
   "outputs": [],
   "source": [
    "win = pd.read_excel('INDICES.xlsx', sheet_name='WIN', date_parser='Data')"
   ]
  },
  {
   "cell_type": "code",
   "execution_count": 3,
   "metadata": {},
   "outputs": [],
   "source": [
    "win = win.dropna()"
   ]
  },
  {
   "cell_type": "code",
   "execution_count": 4,
   "metadata": {},
   "outputs": [],
   "source": [
    "win = win.sort_values('Data')"
   ]
  },
  {
   "cell_type": "code",
   "execution_count": 109,
   "metadata": {},
   "outputs": [],
   "source": [
    "bop = ta.BOP(win.Open, win.Max, win.Min, win.Close)"
   ]
  },
  {
   "cell_type": "code",
   "execution_count": 169,
   "metadata": {},
   "outputs": [],
   "source": [
    "rsi = ta.RSI(win.Close, 21)"
   ]
  },
  {
   "cell_type": "code",
   "execution_count": 172,
   "metadata": {},
   "outputs": [],
   "source": [
    "win['Rsi'] = rsi"
   ]
  },
  {
   "cell_type": "code",
   "execution_count": 112,
   "metadata": {},
   "outputs": [],
   "source": [
    "win['Bop'] = bop"
   ]
  },
  {
   "cell_type": "code",
   "execution_count": 143,
   "metadata": {},
   "outputs": [
    {
     "data": {
      "text/plain": [
       "-1.0"
      ]
     },
     "execution_count": 143,
     "metadata": {},
     "output_type": "execute_result"
    }
   ],
   "source": [
    "win.Bop.min()"
   ]
  },
  {
   "cell_type": "code",
   "execution_count": 175,
   "metadata": {},
   "outputs": [],
   "source": [
    "# Parâmetros\n",
    "tAlta = np.array([])\n",
    "tBaixa = np.array([])\n",
    "maxTend = 0\n",
    "minTend = 0\n",
    "tendencia = '0'\n",
    "profit = pd.DataFrame(columns=['DataEnt','Entrada','DataSai','Saida', 'Operacao','Saldo'])\n",
    "posicionado = 0 # 1 - Sim, 0 - Não\n",
    "volMinOper = 500000000\n",
    "vlrMinDifMedias = 130\n",
    "compraBop = 0.10 # de -1 a 1\n",
    "vendaBop = -0.10\n",
    "compraRsi = 70 # de 0 a 100\n",
    "vendaRsi = 30"
   ]
  },
  {
   "cell_type": "code",
   "execution_count": 40,
   "metadata": {},
   "outputs": [],
   "source": [
    "def getMinValue(vlr1 : float, vlr2 : float):\n",
    "    if(vlr1 <= vlr2):\n",
    "        return vlr1\n",
    "    else:\n",
    "        return vlr2\n",
    "    \n",
    "def getMaxValue(vlr1 : float, vlr2 : float):\n",
    "    if(vlr1 >= vlr2):\n",
    "        return vlr1\n",
    "    else:\n",
    "        return vlr2    "
   ]
  },
  {
   "cell_type": "code",
   "execution_count": 195,
   "metadata": {},
   "outputs": [],
   "source": [
    "for i in win.index:\n",
    "    tBaixa = np.append(tBaixa, win.Close[i])\n",
    "    tAlta = np.append(tAlta, win.Close[i])\n",
    "    if(win.Media21[i] > win.Media9[i]): #identificando a tendencia a partir da diferença das medias\n",
    "        if(tendencia == 'Baixa'): # identificar alternancia de tendencias\n",
    "            tBaixa = np.append(tBaixa, win.Close[i])\n",
    "            if(posicionado == 0):\n",
    "                if(win.Close[i] < getMinValue(minTend, maxTend) and \n",
    "                   (win.Media21[i] - win.Media9[i]) > vlrMinDifMedias and win.Vol[i] > volMinOper and\n",
    "                    win.Bop[i] < vendaBop and win.Rsi[i] < vendaRsi): #localizando oportunidade de compra a partir da comparacao do vlr atual e o fundo conhecido da tendencia\n",
    "                    profit.loc[profit.index.size, ['DataEnt','Entrada','Operacao']] = win.Data[i], win.Close[i], 'Venda'\n",
    "                    posicionado = 1\n",
    "                    minTend = min(tBaixa)\n",
    "                else:\n",
    "                    minTend = min(tBaixa)\n",
    "            elif(posicionado == 1):\n",
    "                if(win.Close[i] < getMinValue(minTend, maxTend) and \n",
    "                   (win.Media21[i] - win.Media9[i]) > vlrMinDifMedias and win.Vol[i] > volMinOper and\n",
    "                    win.Bop[i] < vendaBop and win.Rsi[i] < vendaRsi):\n",
    "                    minTend = min(tBaixa)\n",
    "                else:\n",
    "                    profit.loc[profit.index.size -1, ['DataSai','Saida', 'Saldo']] = win.Data[i], win.Close[i], profit.Entrada[profit.index.size -1] - win.Close[i]\n",
    "                    posicionado = 0\n",
    "                    minTend = min(tBaixa)\n",
    "        else:\n",
    "            tendencia = 'Baixa'\n",
    "            maxTend = min(tAlta)\n",
    "            minTend = win.Close[i]\n",
    "            tBaixa = []\n",
    "            i = i-1\n",
    "    elif(win.Media21[i] < win.Media9[i]):\n",
    "        if(tendencia == 'Alta'): # identificar alternancia de tendencias\n",
    "            tAlta = np.append(tAlta, win.Close[i])\n",
    "            if(posicionado == 0):\n",
    "                if(win.Close[i] > getMaxValue(minTend, maxTend) and \n",
    "                   (win.Media9[i] - win.Media21[i]) > vlrMinDifMedias and win.Vol[i] > volMinOper and\n",
    "                    win.Bop[i] > compraBop  and win.Rsi[i] < vendaRsi): #localizando oportunidade de compra a partir da comparacao do vlr atual e o fundo conhecido da tendencia\n",
    "                    profit.loc[profit.index.size, ['DataEnt','Entrada','Operacao']] = win.Data[i], win.Close[i], 'Compra'\n",
    "                    posicionado = 1\n",
    "                    maxTend = max(tAlta)\n",
    "                else:\n",
    "                    maxTend = max(tAlta)\n",
    "            elif(posicionado == 1):\n",
    "                if(win.Close[i] > getMaxValue(minTend, maxTend) and \n",
    "                   (win.Media9[i] - win.Media21[i]) > vlrMinDifMedias and win.Vol[i] > volMinOper and\n",
    "                    win.Bop[i] > compraBop  and win.Rsi[i] < vendaRsi):\n",
    "                    maxTend = max(tAlta)\n",
    "                else:\n",
    "                    profit.loc[profit.index.size -1, ['DataSai','Saida', 'Saldo']] = win.Data[i], win.Close[i], win.Close[i] - profit.Entrada[profit.index.size -1]\n",
    "                    posicionado = 0\n",
    "                    maxTend = max(tAlta)\n",
    "        else:\n",
    "            tendencia = 'Alta'\n",
    "            maxTend = win.Close[i]\n",
    "            minTend = max(tBaixa)\n",
    "            tAlta = []\n",
    "            i = i-1\n",
    "        "
   ]
  },
  {
   "cell_type": "code",
   "execution_count": 196,
   "metadata": {},
   "outputs": [
    {
     "data": {
      "text/plain": [
       "895"
      ]
     },
     "execution_count": 196,
     "metadata": {},
     "output_type": "execute_result"
    }
   ],
   "source": [
    "profit.Saldo.sum()"
   ]
  },
  {
   "cell_type": "code",
   "execution_count": 197,
   "metadata": {},
   "outputs": [
    {
     "data": {
      "text/plain": [
       "Saldo    55\n",
       "dtype: int64"
      ]
     },
     "execution_count": 197,
     "metadata": {},
     "output_type": "execute_result"
    }
   ],
   "source": [
    "profit[['Saldo']].query('Saldo > 0').count()"
   ]
  },
  {
   "cell_type": "code",
   "execution_count": 198,
   "metadata": {},
   "outputs": [
    {
     "data": {
      "text/plain": [
       "Saldo    95\n",
       "dtype: int64"
      ]
     },
     "execution_count": 198,
     "metadata": {},
     "output_type": "execute_result"
    }
   ],
   "source": [
    "profit[['Saldo']].query('Saldo < 0').count()"
   ]
  },
  {
   "cell_type": "code",
   "execution_count": 200,
   "metadata": {},
   "outputs": [
    {
     "data": {
      "text/plain": [
       "Saldo    5845.0\n",
       "dtype: float64"
      ]
     },
     "execution_count": 200,
     "metadata": {},
     "output_type": "execute_result"
    }
   ],
   "source": [
    "profit[['Saldo']].query('Saldo > 0').sum()"
   ]
  },
  {
   "cell_type": "code",
   "execution_count": 199,
   "metadata": {},
   "outputs": [
    {
     "data": {
      "text/plain": [
       "Saldo   -4950.0\n",
       "dtype: float64"
      ]
     },
     "execution_count": 199,
     "metadata": {},
     "output_type": "execute_result"
    }
   ],
   "source": [
    "profit[['Saldo']].query('Saldo < 0').sum()"
   ]
  },
  {
   "cell_type": "code",
   "execution_count": 201,
   "metadata": {},
   "outputs": [
    {
     "data": {
      "text/plain": [
       "Saldo    0\n",
       "dtype: int64"
      ]
     },
     "execution_count": 201,
     "metadata": {},
     "output_type": "execute_result"
    }
   ],
   "source": [
    "profit[['Saldo']].query('Saldo == 0').count()"
   ]
  },
  {
   "cell_type": "code",
   "execution_count": 166,
   "metadata": {},
   "outputs": [],
   "source": [
    "profit = profit.dropna()"
   ]
  },
  {
   "cell_type": "code",
   "execution_count": 167,
   "metadata": {},
   "outputs": [],
   "source": [
    "profit.to_csv('teste.csv', index=False)"
   ]
  },
  {
   "cell_type": "code",
   "execution_count": 203,
   "metadata": {},
   "outputs": [
    {
     "data": {
      "text/plain": [
       "False"
      ]
     },
     "execution_count": 203,
     "metadata": {},
     "output_type": "execute_result"
    }
   ],
   "source": [
    "-1 < -10"
   ]
  },
  {
   "cell_type": "code",
   "execution_count": null,
   "metadata": {},
   "outputs": [],
   "source": []
  }
 ],
 "metadata": {
  "kernelspec": {
   "display_name": "Python 3",
   "language": "python",
   "name": "python3"
  },
  "language_info": {
   "codemirror_mode": {
    "name": "ipython",
    "version": 3
   },
   "file_extension": ".py",
   "mimetype": "text/x-python",
   "name": "python",
   "nbconvert_exporter": "python",
   "pygments_lexer": "ipython3",
   "version": "3.8.5"
  }
 },
 "nbformat": 4,
 "nbformat_minor": 4
}
